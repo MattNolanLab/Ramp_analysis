{
 "cells": [
  {
   "cell_type": "raw",
   "metadata": {},
   "source": [
    "---\n",
    "title: \"R Notebook\"\n",
    "params:\n",
    "  lme_file: E:/in_vivo_vr/sarah_glm_202006/cohort_3/M1_D31_2018-11-01_12-28-25/processed/time_model/lme_models.rds\n",
    "  binned_data: E:/in_vivo_vr/sarah_glm_202006/cohort_3/M1_D31_2018-11-01_12-28-25/processed/binned_data.pkl\n",
    "output:\n",
    "  html_notebook:\n",
    "    df_print: paged\n",
    "    toc: yes\n",
    "    toc_float: yes\n",
    "  html_document:\n",
    "    toc: yes\n",
    "    df_print: paged\n",
    "---"
   ]
  },
  {
   "cell_type": "markdown",
   "metadata": {},
   "source": [
    "This scripts aggregate the mixed effect models"
   ]
  },
  {
   "cell_type": "markdown",
   "metadata": {},
   "source": [
    "### Import\n"
   ]
  },
  {
   "cell_type": "code",
   "execution_count": 1,
   "metadata": {
    "collapsed": true,
    "execution": {
     "iopub.execute_input": "2020-08-20T10:48:51.327723Z",
     "iopub.status.busy": "2020-08-20T10:48:51.325728Z",
     "iopub.status.idle": "2020-08-20T10:48:53.728133Z"
    },
    "jupyter": {
     "outputs_hidden": true
    },
    "message": false,
    "tags": [
     "remove_cell"
    ]
   },
   "outputs": [
    {
     "name": "stderr",
     "output_type": "stream",
     "text": [
      "\n",
      "Attaching package: 'rstatix'\n",
      "\n",
      "\n",
      "The following object is masked from 'package:stats':\n",
      "\n",
      "    filter\n",
      "\n",
      "\n",
      "-- \u001b[1mAttaching packages\u001b[22m --------------------------------------- tidyverse 1.3.0 --\n",
      "\n",
      "\u001b[32mv\u001b[39m \u001b[34mggplot2\u001b[39m 3.3.0     \u001b[32mv\u001b[39m \u001b[34mpurrr  \u001b[39m 0.3.4\n",
      "\u001b[32mv\u001b[39m \u001b[34mtibble \u001b[39m 3.0.1     \u001b[32mv\u001b[39m \u001b[34mdplyr  \u001b[39m 0.8.5\n",
      "\u001b[32mv\u001b[39m \u001b[34mtidyr  \u001b[39m 1.0.3     \u001b[32mv\u001b[39m \u001b[34mstringr\u001b[39m 1.4.0\n",
      "\u001b[32mv\u001b[39m \u001b[34mreadr  \u001b[39m 1.3.1     \u001b[32mv\u001b[39m \u001b[34mforcats\u001b[39m 0.5.0\n",
      "\n",
      "-- \u001b[1mConflicts\u001b[22m ------------------------------------------ tidyverse_conflicts() --\n",
      "\u001b[31mx\u001b[39m \u001b[34mdplyr\u001b[39m::\u001b[32mfilter()\u001b[39m masks \u001b[34mrstatix\u001b[39m::filter(), \u001b[34mstats\u001b[39m::filter()\n",
      "\u001b[31mx\u001b[39m \u001b[34mdplyr\u001b[39m::\u001b[32mlag()\u001b[39m    masks \u001b[34mstats\u001b[39m::lag()\n",
      "\n",
      "Loading required package: Matrix\n",
      "\n",
      "\n",
      "Attaching package: 'Matrix'\n",
      "\n",
      "\n",
      "The following objects are masked from 'package:tidyr':\n",
      "\n",
      "    expand, pack, unpack\n",
      "\n",
      "\n",
      "Registered S3 methods overwritten by 'lme4':\n",
      "  method                          from\n",
      "  cooks.distance.influence.merMod car \n",
      "  influence.merMod                car \n",
      "  dfbeta.influence.merMod         car \n",
      "  dfbetas.influence.merMod        car \n",
      "\n",
      "\n",
      "Attaching package: 'glue'\n",
      "\n",
      "\n",
      "The following object is masked from 'package:dplyr':\n",
      "\n",
      "    collapse\n",
      "\n",
      "\n"
     ]
    }
   ],
   "source": [
    "library(rstatix)\n",
    "library(feather)\n",
    "library(tidyverse)\n",
    "library(rjson)\n",
    "library(lme4)\n",
    "library(reticulate)\n",
    "library(ggeffects)\n",
    "library(broom)\n",
    "library(glue)\n",
    "library(progress)\n",
    "library(ggforce)\n",
    "library(patchwork)\n",
    "library(ggpubr)\n",
    "\n",
    "knitr::opts_chunk$set(\n",
    "  fig.show = \"hold\",\n",
    "  fig.width = 7,\n",
    "  fig.asp = 0.6\n",
    ")\n"
   ]
  },
  {
   "cell_type": "markdown",
   "metadata": {},
   "source": [
    "### Load data"
   ]
  },
  {
   "cell_type": "code",
   "execution_count": 18,
   "metadata": {
    "execution": {
     "iopub.execute_input": "2020-08-20T14:07:53.913501Z",
     "iopub.status.busy": "2020-08-20T14:07:53.913501Z",
     "iopub.status.idle": "2020-08-20T14:07:56.096665Z"
    }
   },
   "outputs": [],
   "source": [
    "data_merged <- readRDS('E:/in_vivo_vr/sarah_glm_202006/all_lme.rds') #load previous data"
   ]
  },
  {
   "cell_type": "code",
   "execution_count": 19,
   "metadata": {
    "execution": {
     "iopub.execute_input": "2020-08-20T14:07:57.501838Z",
     "iopub.status.busy": "2020-08-20T14:07:57.500840Z",
     "iopub.status.idle": "2020-08-20T14:07:57.520786Z"
    }
   },
   "outputs": [],
   "source": [
    "data_merged <- data_merged %>%\n",
    "    mutate(lm_result_outbound = recode(lm_result_outbound, 'NoSlope'='Unclassified','None'='Unclassified'))"
   ]
  },
  {
   "cell_type": "markdown",
   "metadata": {},
   "source": [
    "### Plot portion of cell encoding position or time "
   ]
  },
  {
   "cell_type": "code",
   "execution_count": 74,
   "metadata": {
    "execution": {
     "iopub.execute_input": "2020-08-20T14:55:13.479892Z",
     "iopub.status.busy": "2020-08-20T14:55:13.478893Z",
     "iopub.status.idle": "2020-08-20T14:55:14.490214Z"
    },
    "fig.asp": 1,
    "fig.width": 7,
    "lines_to_next_cell": 2
   },
   "outputs": [
    {
     "data": {
      "image/png": "[encoded data removed]",
      "text/plain": [
       "plot without title"
      ]
     },
     "metadata": {
      "image/png": {
       "height": 300,
       "width": 360
      }
     },
     "output_type": "display_data"
    },
    {
     "data": {
      "image/png": "[encoded data removed]",
      "text/plain": [
       "plot without title"
      ]
     },
     "metadata": {
      "image/png": {
       "height": 300,
       "width": 900
      }
     },
     "output_type": "display_data"
    }
   ],
   "source": [
    "# use AIC for model comparison\n",
    "options(repr.plot.width=6, repr.plot.height=5)\n",
    "\n",
    "getPosAIC <- function(data) {\n",
    "  data$AIC[[2]]\n",
    "}\n",
    "\n",
    "getTimeAIC <- function (data) {\n",
    "  data$AIC[[1]]\n",
    "}\n",
    "\n",
    "data2plot <- data_merged %>%\n",
    "  filter(trialN>10) %>% #only include data with enough trials\n",
    "  filter(trial_length_type != \"Middle\") %>%\n",
    "  mutate(pos_aic = map_dbl(anova_p_vs_t, getPosAIC)) %>%\n",
    "  mutate(time_aic = map_dbl(anova_p_vs_t, getTimeAIC))  %>%\n",
    "  mutate(aic_diff = abs(time_aic - pos_aic)/((pos_aic+time_aic)/2))\n",
    "\n",
    "data2plot <- data2plot %>% \n",
    "  mutate(aic_compare=if_else(pos_aic<=time_aic,'Position','Time')) %>%\n",
    "  mutate(aic_compare=factor(aic_compare,levels=c('Time','Position')))\n",
    "\n",
    "p1 <- data2plot %>% \n",
    "    filter(trial_length_type=='All') %>%\n",
    "    ggplot()+ \n",
    "      geom_bar(aes(x=lm_result_outbound,fill=aic_compare),position='fill') +\n",
    "   labs(x='Cell type', fill='Preferred variable') +\n",
    "    scale_fill_manual(values=c(\"#E69F00\",\"#56B4FF\")) +\n",
    "      theme_minimal(base_size=16) \n",
    "p1\n",
    "ggsave('paper_figures/3D.pdf',width=7,height=5)\n",
    "\n",
    "options(repr.plot.width=15, repr.plot.height=5)\n",
    "\n",
    "# outbound \n",
    "comparison <- list(c(\"Time\",\"Position\"))\n",
    "p2 <- data2plot %>%\n",
    "  filter(trial_length_type==\"All\") %>%\n",
    "  ggboxplot(x=\"aic_compare\",y=\"aic_diff\", fill=\"aic_compare\",\n",
    "            facet.by='lm_result_outbound') +\n",
    "    scale_fill_manual(values=c(\"#E69F00\",\"#56B4FF\")) +\n",
    "  stat_compare_means(comparison=comparison, method='wilcox.test',label = \"p.signif\") + \n",
    " labs(fill='Preferred variable', x = 'Preferred variable', y=\"Normalized difference in AIC\") +\n",
    " theme_minimal(base_size=16)\n",
    "p2\n",
    "ggsave('paper_figures/3E.pdf',width=15,height=5)\n",
    "\n",
    "# p1+p2 + plot_layout(widths = c(1, 2))"
   ]
  },
  {
   "cell_type": "code",
   "execution_count": 8,
   "metadata": {
    "execution": {
     "iopub.execute_input": "2020-08-20T13:57:15.979611Z",
     "iopub.status.busy": "2020-08-20T13:57:15.978613Z",
     "iopub.status.idle": "2020-08-20T13:57:17.356265Z"
    },
    "lines_to_next_cell": 2
   },
   "outputs": [
    {
     "data": {
      "image/png": "[encoded data removed]",
      "text/plain": [
       "plot without title"
      ]
     },
     "metadata": {
      "image/png": {
       "height": 420,
       "width": 420
      }
     },
     "output_type": "display_data"
    }
   ],
   "source": [
    "# Cross-validatino model comparison\n",
    "# data_merged %>% \n",
    "#   mutate(sig=if_else(pvalue<0.05,'sig','non-sig')) %>%\n",
    "#   ggplot() +\n",
    "#   geom_bar(aes(x=lm_result_outbound,fill=sig),position='fill') +\n",
    "#   facet_grid(~trial_length_type)\n",
    "\n",
    "get_crossVal_p <- function(metrics){\n",
    "  m <- metrics %>%\n",
    "    group_by(model_type) %>%\n",
    "    summarise(averageMSE=mean(metrics_rmse))\n",
    "  \n",
    "  m$averageMSE[[1]] - m$averageMSE[[2]] #position-time\n",
    "}\n",
    "\n",
    "data_merge2 <- data_merged %>%\n",
    "  filter(trialN>10) %>%\n",
    "  mutate(dMSE=map(metrics,get_crossVal_p)) %>%\n",
    "  mutate(sig='None') %>%\n",
    "  mutate(sig = if_else((pvalue<0.05) & (dMSE<0), 'Position',sig)) %>%\n",
    "  mutate(sig = if_else((pvalue<0.05) & (dMSE>0), 'Time',sig))\n",
    "\n",
    "\n",
    "ggplot(data_merge2) +\n",
    "  geom_bar(aes(x=lm_result_outbound,fill=sig),position='fill') +\n",
    "  facet_grid(~trial_length_type)\n",
    "\n",
    "# ggplot(data_merge2) +\n",
    "#   geom_bar(aes(x=lm_result_outbound,fill=sig)) +\n",
    "#   facet_grid(~trial_length_type)\n",
    "\n",
    "\n",
    "# ggplot(data_merge2) +\n",
    "#   geom_bar(aes(x=lm_result_homebound,fill=sig)) +\n",
    "#   facet_grid(~trial_length_type)\n",
    "\n",
    "# ggplot(data_merge2) +\n",
    "#   geom_bar(aes(x=lm_result_homebound,fill=sig),position='fill') +\n",
    "#   facet_grid(~trial_length_type)\n",
    "  \n",
    "  "
   ]
  },
  {
   "cell_type": "markdown",
   "metadata": {},
   "source": [
    "### get the mix effect response curve"
   ]
  },
  {
   "cell_type": "code",
   "execution_count": null,
   "metadata": {
    "cache": true,
    "lines_to_next_cell": 0,
    "message": false
   },
   "outputs": [],
   "source": [
    "data_ramp <- data_merged %>%\n",
    "    filter(lm_result_outbound != \"None\")\n",
    "\n",
    "# refit the model\n",
    "fmlStrTime= \"firingRate ~ time_relative_outbound +(1|trial_number)\"\n",
    "fmlStrPos= \"firingRate ~ position_relative_outbound +(1|trial_number)\"\n",
    "\n",
    "fit_lmer <- function(df,fmlStr) {\n",
    "  return(lmer(as.formula(fmlStr),data=df))\n",
    "\n",
    "}\n",
    "\n",
    "data_ramp <- data_ramp %>%\n",
    "    mutate(time_model=map(data, fit_lmer, fmlStrTime)) %>% #time model\n",
    "    mutate(pos_model=map(data, fit_lmer, fmlStrPos))   #position model\n",
    "\n",
    "    \n",
    "df_plot <- data_ramp %>%\n",
    "  mutate(marginalEffectTime = map(time_model, ggpredict, terms=c(\"time_relative_outbound\"))) %>%\n",
    "  mutate(marginalEffectPos = map(pos_model, ggpredict,terms=c(\"position_relative_outbound\")))\n",
    "\n",
    "df_plot <- df_plot %>%\n",
    "  gather(starts_with('marginalEffect'),key='marginal_type',value='margin_effect')\n"
   ]
  },
  {
   "cell_type": "markdown",
   "metadata": {},
   "source": []
  },
  {
   "cell_type": "markdown",
   "metadata": {},
   "source": [
    "### Save/Load plot data"
   ]
  },
  {
   "cell_type": "code",
   "execution_count": null,
   "metadata": {},
   "outputs": [],
   "source": [
    "# saveRDS(df_plot,'E:/in_vivo_vr/sarah_glm_202006/all_lme_plot.rds', compress = FALSE)\n",
    "\n",
    "df_plot <- readRDS('E:/in_vivo_vr/sarah_glm_202006/all_lme_plot.rds' )\n",
    "\n",
    "\n",
    "df_plot$trialN <- as.numeric(df_plot$trialN)\n",
    "\n",
    "df_predict <- df_plot %>%\n",
    "  arrange(desc(trialN)) %>%\n",
    "  unnest(margin_effect)\n",
    "\n",
    "predict_data <- df_plot %>%\n",
    "    arrange(desc(trialN)) %>%\n",
    "  select(-session_id) %>%\n",
    "  unnest(data)\n",
    "\n"
   ]
  },
  {
   "cell_type": "code",
   "execution_count": null,
   "metadata": {
    "lines_to_next_cell": 2
   },
   "outputs": [],
   "source": [
    "\n",
    "plot_lme_predicted <- function(df_model, df_data, p) {\n",
    "  #Plot the predicted response from LME model\n",
    "  \n",
    "  #remove the trials that are too long to make plots easier to see\n",
    "  df_model <- df_model %>%\n",
    "    filter(x<=15)\n",
    "  \n",
    "  ggplot(df_model) +\n",
    "  geom_line(aes(x=x,y=predicted,color=trial_length_type)) +\n",
    "  geom_ribbon(aes(x=x,ymin=predicted-std.error, \n",
    "                  ymax = predicted + std.error,color=trial_length_type), fill = \"lightgrey\", alpha = 0.5) +\n",
    "  # geom_point(data = df_data, aes(x=time_relative_outbound, y = firingRate, color=trial_length_type),\n",
    "  #            alpha=0.3, shape='bullet') +\n",
    "  labs(x='Time(s)', y='Firing Rate (Hz)') +\n",
    "  facet_wrap_paginate(vars(session_id,cluster_id),scale='free',ncol = 4, nrow=4, page=p) +\n",
    "  theme_minimal()\n",
    "}"
   ]
  },
  {
   "cell_type": "markdown",
   "metadata": {
    "lines_to_next_cell": 0
   },
   "source": [
    "### Plot fitted curves - positive\n",
    "-TODO fix bug"
   ]
  },
  {
   "cell_type": "code",
   "execution_count": null,
   "metadata": {
    "fig.align": "center",
    "fig.asp": 0.5,
    "fig.width": 12,
    "lines_to_next_cell": 0,
    "out.width": "100%"
   },
   "outputs": [],
   "source": [
    "\n",
    "# The model data\n",
    "ramp_pos <- predict_time %>%\n",
    "  filter(trial_length_type != 'All') %>%\n",
    "  filter(lm_result_outbound=='Positive')\n",
    "\n",
    "  \n",
    "ramp_pos_data <- predict_data %>%\n",
    "    filter(trial_length_type != 'All') %>%\n",
    "    filter(lm_result_outbound=='Positive') \n",
    "\n",
    "p <- plot_lme_predicted(ramp_pos, ramp_pos_data,1)\n",
    "\n",
    "\n",
    "pages <- n_pages(p)\n",
    "\n",
    "pdf(\"figures/pos_ramp_lme.pdf\", width = 12, height = 12*0.5)\n",
    "for(i in seq(pages)){\n",
    "  p <- plot_lme_predicted(ramp_pos, ramp_pos_data,i)\n",
    "  print(p)\n",
    "}\n",
    "dev.off()\n",
    "\n",
    "# For record in rmarkdown\n",
    "for(i in seq(pages)){\n",
    "  p <- plot_lme_predicted(ramp_pos, ramp_pos_data,i)\n",
    "  print(p)\n",
    "}\n"
   ]
  },
  {
   "cell_type": "code",
   "execution_count": null,
   "metadata": {
    "lines_to_next_cell": 2
   },
   "outputs": [],
   "source": [
    "df_filt <- df_plot %>%\n",
    "  select(session_id, cluster_id, trialN) %>%\n",
    "  filter(trial_length_type=='All') %>%\n",
    "  filter(trialN>10)\n",
    "\n",
    "session_sel <- df_filt$session_id"
   ]
  },
  {
   "cell_type": "code",
   "execution_count": null,
   "metadata": {
    "fig.align": "center",
    "fig.asp": 0.8,
    "fig.width": 15,
    "lines_to_next_cell": 2,
    "out.width": "100%"
   },
   "outputs": [],
   "source": [
    "# ramp cell, time vs position\n",
    "\n",
    "plot_lme_predicted_time <- function(df_model, df_data, page, average=FALSE) {\n",
    "  #Plot the predicted response from LME model\n",
    "  \n",
    "  #remove the trials that are too long to make plots easier to see\n",
    "  df_model <- df_model %>%\n",
    "    filter(x<=15)\n",
    "  \n",
    "  df_data <- df_data %>%\n",
    "    filter(time_relative_outbound<=15)\n",
    "  \n",
    "  p <- ggplot(df_model)\n",
    "  \n",
    "  if(average) {\n",
    "    p <- p + geom_smooth(aes(x=time_relative_outbound, y = firingRate, color=trial_length_type),data=df_data)\n",
    "  }else{\n",
    "    p <- p + geom_line(data = df_data, aes(x=time_relative_outbound, y = firingRate, color=trial_length_type, group=trial_number),\n",
    "             alpha=0.3, shape='bullet')\n",
    "  }\n",
    "  \n",
    "    p+geom_line(data=df_model,aes(x=x,y=predicted,color=trial_length_type)) +\n",
    "    geom_ribbon(aes(x=x,ymin=predicted-std.error, \n",
    "                  ymax = predicted + std.error,color=trial_length_type), fill = \"lightgrey\", alpha = 0.5) +\n",
    "    labs(x='Time(s)', y='Firing Rate (Hz)') +\n",
    "    facet_wrap_paginate(vars(session_id, cluster_id, trial_length_type),scale='free',ncol = 6, nrow=4, page=page) +\n",
    "    theme_minimal()\n",
    "\n",
    "}\n",
    "\n",
    "plot_lme_predicted_pos <- function(df_model, df_data, page, average=FALSE) {\n",
    "  #Plot the predicted response from LME model\n",
    "  \n",
    "\n",
    "  p <- ggplot(df_model)\n",
    "  \n",
    "  if(average) {\n",
    "    p <- p + geom_smooth(aes(x=position_relative_outbound, y = firingRate, color=trial_length_type),data=df_data)\n",
    "  }else{\n",
    "    p <- p + geom_line(data = df_data, aes(x=position_relative_outbound, y = firingRate, color=trial_length_type, group=trial_number),\n",
    "             alpha=0.3, shape='bullet')\n",
    "  }\n",
    "  \n",
    "    p+geom_line(data=df_model,aes(x=x,y=predicted,color=trial_length_type)) +\n",
    "    geom_ribbon(aes(x=x,ymin=predicted-std.error, \n",
    "                  ymax = predicted + std.error,color=trial_length_type), fill = \"lightgrey\", alpha = 0.5) +\n",
    "    labs(x='Position (cm)', y='Firing Rate (Hz)') +\n",
    "    facet_wrap_paginate(vars(session_id, cluster_id, trial_length_type),scale='free',ncol = 6, nrow=4, page=page) +\n",
    "    theme_minimal()\n",
    "\n",
    "}\n",
    "\n",
    "\n",
    "ramp_pos <- df_predict %>%\n",
    "  filter(trial_length_type != 'All') %>%\n",
    "  filter(lm_result_outbound=='Positive') %>%\n",
    "  filter(marginal_type=='marginalEffectPos') %>%\n",
    "  filter(session_id %in% session_sel)\n",
    "\n",
    "  \n",
    "ramp_pos_data <- predict_data %>%\n",
    "    filter(trial_length_type != 'All') %>%\n",
    "    filter(lm_result_outbound=='Positive')  %>%\n",
    "    filter(marginal_type=='marginalEffectPos') %>%\n",
    "     filter(session_id %in% session_sel)\n",
    "\n",
    "\n",
    "\n",
    "plot_lme_predicted_pos(ramp_pos, ramp_pos_data, 1, average = TRUE)\n",
    "plot_lme_predicted_pos(ramp_pos, ramp_pos_data, 1, average = FALSE)\n",
    "\n",
    "ramp_time <- df_predict %>%\n",
    "  filter(trial_length_type != 'All') %>%\n",
    "  filter(lm_result_outbound=='Positive') %>%\n",
    "  filter(marginal_type=='marginalEffectTime') %>%\n",
    "    filter(session_id %in% session_sel)\n",
    "\n",
    "\n",
    "  \n",
    "ramp_time_data <- predict_data %>%\n",
    "    filter(trial_length_type != 'All') %>%\n",
    "    filter(lm_result_outbound=='Positive')  %>%\n",
    "    filter(marginal_type=='marginalEffectTime') %>%\n",
    "      filter(session_id %in% session_sel)\n",
    "\n",
    "\n",
    "\n",
    "plot_lme_predicted_time(ramp_time, ramp_time_data, 1, average = TRUE)\n",
    "plot_lme_predicted_time(ramp_time, ramp_time_data, 1, average = FALSE)\n",
    "\n"
   ]
  },
  {
   "cell_type": "markdown",
   "metadata": {},
   "source": [
    "### Plot fitted curves - negative"
   ]
  },
  {
   "cell_type": "code",
   "execution_count": null,
   "metadata": {
    "fig.align": "center",
    "fig.asp": 0.5,
    "fig.width": 12,
    "out.width": "100%"
   },
   "outputs": [],
   "source": [
    "\n",
    "ramp_neg <- predict_time %>%\n",
    "    filter(trial_length_type != 'All') %>%\n",
    "  filter(lm_result_outbound=='Negative') \n",
    "  \n",
    "ramp_neg_data <- predict_data %>%\n",
    "    filter(trial_length_type != 'All') %>%\n",
    "    filter(lm_result_outbound=='Negative')\n",
    "\n",
    "p <- plot_lme_predicted(ramp_neg, ramp_neg_data,1)\n",
    "\n",
    "\n",
    "pages <- n_pages(p)\n",
    "\n",
    "pdf(\"figures/neg_ramp_lme.pdf\", width = 12, height = 12*0.5)\n",
    "for(i in seq(pages)){\n",
    "  p <- plot_lme_predicted(ramp_neg, ramp_neg_data,i)\n",
    "  print(p)\n",
    "}\n",
    "\n",
    "dev.off()\n",
    "\n",
    "for(i in seq(pages)){\n",
    "  p <- plot_lme_predicted(ramp_neg, ramp_neg_data,i)\n",
    "  print(p)\n",
    "}\n"
   ]
  },
  {
   "cell_type": "markdown",
   "metadata": {},
   "source": [
    "### Negative cell -raw"
   ]
  },
  {
   "cell_type": "code",
   "execution_count": null,
   "metadata": {
    "fig.align": "center",
    "fig.asp": 0.8,
    "fig.width": 15,
    "lines_to_next_cell": 0,
    "out.width": "100%"
   },
   "outputs": [],
   "source": [
    "ramp_pos <- df_predict %>%\n",
    "  filter(trial_length_type != 'All') %>%\n",
    "  filter(lm_result_outbound=='Negative') %>%\n",
    "  filter(marginal_type=='marginalEffectPos') %>%\n",
    "   filter(trialN>10)\n",
    "\n",
    "  \n",
    "ramp_pos_data <- predict_data %>%\n",
    "    filter(trial_length_type != 'All') %>%\n",
    "    filter(lm_result_outbound=='Negative')  %>%\n",
    "    filter(marginal_type=='marginalEffectPos') %>%\n",
    "   filter(trialN>10)\n",
    "\n",
    "\n",
    "\n",
    "plot_lme_predicted_pos(ramp_pos, ramp_pos_data, 1, average = TRUE)\n",
    "plot_lme_predicted_pos(ramp_pos, ramp_pos_data, 1, average = FALSE)\n",
    "\n",
    "ramp_time <- df_predict %>%\n",
    "  filter(trial_length_type != 'All') %>%\n",
    "  filter(lm_result_outbound=='Negative') %>%\n",
    "  filter(marginal_type=='marginalEffectTime') %>%\n",
    "   filter(trialN>10)\n",
    "\n",
    "  \n",
    "ramp_time_data <- predict_data %>%\n",
    "    filter(trial_length_type != 'All') %>%\n",
    "    filter(lm_result_outbound=='Negative')  %>%\n",
    "    filter(marginal_type=='marginalEffectTime') %>%\n",
    "   filter(trialN>10)\n",
    "\n",
    "\n",
    "plot_lme_predicted_time(ramp_time, ramp_time_data, 1, average = TRUE)\n",
    "plot_lme_predicted_time(ramp_time, ramp_time_data, 1, average = FALSE)"
   ]
  },
  {
   "cell_type": "markdown",
   "metadata": {},
   "source": []
  },
  {
   "cell_type": "markdown",
   "metadata": {},
   "source": [
    "### Calculate normalized firing rate"
   ]
  },
  {
   "cell_type": "code",
   "execution_count": null,
   "metadata": {
    "lines_to_next_cell": 0
   },
   "outputs": [],
   "source": [
    "\n",
    "getMaxFr <- function(data) {\n",
    "  max(data$firingRate)\n",
    "}\n",
    "\n",
    "# Get max firing rate of each cells\n",
    "fr_max <- data_merged %>%\n",
    "  filter(trial_length_type==\"All\") %>%\n",
    "  mutate(max_fr = map(data,getMaxFr)) %>%\n",
    "  select(session_id, cluster_id, max_fr)\n",
    "\n",
    "# Match back to the original \n",
    "\n",
    "data_merged_norm <- data_merged %>%\n",
    "  select(-time_model,-pos_model) %>%\n",
    "  inner_join(fr_max, by=c(\"session_id\",\"cluster_id\")) %>%\n",
    "  select(-session_id) %>%\n",
    "  unnest(data) \n",
    "#  "
   ]
  },
  {
   "cell_type": "markdown",
   "metadata": {},
   "source": [
    "\n"
   ]
  },
  {
   "cell_type": "code",
   "execution_count": null,
   "metadata": {},
   "outputs": [],
   "source": [
    "\n",
    "data_merged_norm$max_fr = as.numeric(data_merged_norm$max_fr)\n",
    "\n",
    "data_merged_norm <- data_merged_norm %>%\n",
    "  mutate(firingRateNorm = firingRate/max_fr)\n",
    "\n",
    "data_merged_norm$trial_length = as.numeric(data_merged_norm$trial_length)/10 #change to second\n",
    "\n"
   ]
  },
  {
   "cell_type": "code",
   "execution_count": null,
   "metadata": {
    "lines_to_next_cell": 2
   },
   "outputs": [],
   "source": [
    "saveRDS(data_merged_norm, 'E:/in_vivo_vr/sarah_glm_202006/data_merged_norm.rds' )\n",
    "# data_merged_norm = readRDS('E:/in_vivo_vr/sarah_glm_202006/data_merged_norm.rds')"
   ]
  },
  {
   "cell_type": "markdown",
   "metadata": {
    "lines_to_next_cell": 0
   },
   "source": [
    "### Plot average time response"
   ]
  },
  {
   "cell_type": "code",
   "execution_count": null,
   "metadata": {
    "fig.asp": 0.5,
    "fig.width": 12
   },
   "outputs": [],
   "source": [
    "\n",
    "plot_time_response <- function(data_merged_norm, ramp_sign, smooth_method=NULL, mad_factor=1){\n",
    "  \n",
    "  #Calculate the metrics\n",
    "  data_median <- data_merged_norm %>%\n",
    "  group_by(trial_length_type.x) %>%\n",
    "  summarise(median = median(trial_length), \n",
    "            mad = mad(trial_length),\n",
    "            mean = mean(trial_length),\n",
    "            std = sd(trial_length))\n",
    "\n",
    "  short_metrics <- data_median %>%\n",
    "    filter(trial_length_type.x=='Short')\n",
    "  \n",
    "  middle_metrics <- data_median %>%\n",
    "    filter(trial_length_type.x=='Middle')\n",
    "  \n",
    "  long_metrics <- data_median %>%\n",
    "    filter(trial_length_type.x=='Long')\n",
    "  \n",
    "  all_metrics <- data_median %>%\n",
    "    filter(trial_length_type.x=='All')\n",
    "  \n",
    "  data_merged_norm %>%\n",
    "  filter(trial_length <= all_metrics$median+mad_factor*all_metrics$mad) %>%\n",
    "  filter(lm_result_outbound==ramp_sign) %>%\n",
    "  filter(trial_length_type.x != 'All') %>%\n",
    "  filter((trial_length_type.x=='Short' & time_relative_outbound<=short_metrics$median) |\n",
    "          (trial_length_type.x=='Middle' & time_relative_outbound<=middle_metrics$median) |\n",
    "           (trial_length_type.x=='Long' & time_relative_outbound<=long_metrics$median)\n",
    "  ) %>%\n",
    "  ggplot(aes(x=time_relative_outbound, y=firingRateNorm, color=trial_length_type.x)) +\n",
    "  # geom_point() +\n",
    "  geom_smooth(method=smooth_method) +\n",
    "    ylab('Firing rate (Hz)') +\n",
    "    xlab('Time relative to start of outbound (s)') +\n",
    "    labs(color='Trial Length')\n",
    "}\n",
    "\n",
    "q1 <- plot_time_response(data_merged_norm, 'Positive','lm')\n",
    "q2 <- plot_time_response(data_merged_norm, 'Positive')\n",
    "q3 <- plot_time_response(data_merged_norm, 'Positive','lm',mad_factor=2)\n",
    "q4 <- plot_time_response(data_merged_norm, 'Positive', mad_factor=2)\n",
    "\n",
    "q1+q2+q3+q4\n",
    "\n",
    "ggsave('figures/time_response_overall_pos.png')"
   ]
  },
  {
   "cell_type": "code",
   "execution_count": null,
   "metadata": {
    "fig.asp": 0.5,
    "fig.width": 12,
    "lines_to_next_cell": 2
   },
   "outputs": [],
   "source": [
    "q1 <- plot_time_response(data_merged_norm, 'Negative','lm')\n",
    "q2 <- plot_time_response(data_merged_norm, 'Negative')\n",
    "q3 <- plot_time_response(data_merged_norm, 'Negative','lm',mad_factor=2)\n",
    "q4 <- plot_time_response(data_merged_norm, 'Negative', mad_factor=2)\n",
    "\n",
    "q1+q2+q3+q4\n",
    "\n",
    "ggsave('figures/time_response_overall_neg.png')"
   ]
  },
  {
   "cell_type": "markdown",
   "metadata": {},
   "source": [
    "### Only plot position-encoding neurons"
   ]
  },
  {
   "cell_type": "code",
   "execution_count": null,
   "metadata": {},
   "outputs": [],
   "source": [
    "data_merged_norm_p <- data_merged_norm %>%\n",
    "  filter(lmer_result_outbound==\"P\")\n",
    "q1 <- plot_time_response(data_merged_norm_p, 'Positive','lm')\n",
    "q2 <- plot_time_response(data_merged_norm_p, 'Positive')\n",
    "q3 <- plot_time_response(data_merged_norm_p, 'Positive','lm',mad_factor=2)\n",
    "q4 <- plot_time_response(data_merged_norm_p, 'Positive', mad_factor=2)\n",
    "\n",
    "q1+q2+q3+q4\n",
    "\n",
    "ggsave('figures/time_response_overall_pos_position.png')"
   ]
  },
  {
   "cell_type": "code",
   "execution_count": null,
   "metadata": {
    "lines_to_next_cell": 2
   },
   "outputs": [],
   "source": [
    "\n",
    "data_merged_norm_p <- data_merged_norm %>%\n",
    "  filter(lmer_result_outbound==\"P\")\n",
    "\n",
    "q1 <- plot_time_response(data_merged_norm_p, 'Negative','lm')\n",
    "q2 <- plot_time_response(data_merged_norm_p, 'Negative')\n",
    "q3 <- plot_time_response(data_merged_norm_p, 'Negative','lm',mad_factor=2)\n",
    "q4 <- plot_time_response(data_merged_norm_p, 'Negative', mad_factor=2)\n",
    "\n",
    "q1+q2+q3+q4\n",
    "\n",
    "ggsave('figures/time_response_overall_neg_position.png')"
   ]
  },
  {
   "cell_type": "markdown",
   "metadata": {
    "lines_to_next_cell": 0
   },
   "source": [
    "### Histogram of trial length (unfiltered)"
   ]
  },
  {
   "cell_type": "code",
   "execution_count": null,
   "metadata": {
    "lines_to_next_cell": 0
   },
   "outputs": [],
   "source": [
    "\n",
    "extractTrialLength <- function(data){\n",
    "  return(data$trial_length[[1]])\n",
    "}\n",
    "\n",
    "\n",
    "d <- data_merged_norm %>%\n",
    "  filter(lm_result_outbound=='Positive') %>%\n",
    "  filter(trial_length_type.x != 'All') %>%\n",
    "  group_by(session_id, trial_length_type.x, trial_number) %>%\n",
    "  nest() %>%\n",
    "  mutate(trial_length = map_dbl(data, extractTrialLength))\n",
    "\n",
    "d %>%\n",
    "  ungroup() %>%\n",
    "  mutate(trial_length_time = trial_length) %>%\n",
    "  filter(trial_length_time<100) %>%\n",
    "ggplot(aes(x=trial_length_time, fill=trial_length_type.x)) +\n",
    "  geom_histogram(binwidth = 0.1 ) +\n",
    "  facet_zoom(xlim = c(0,10))\n",
    "\n",
    "ggsave('figures/trial_dist_all.png')"
   ]
  },
  {
   "cell_type": "markdown",
   "metadata": {},
   "source": [
    "\n"
   ]
  }
 ],
 "metadata": {
  "jupytext": {
   "cell_metadata_filter": "fig.align,cache,tags,message,out.width,fig.width,fig.asp,-all",
   "notebook_metadata_filter": "-all",
   "text_representation": {
    "extension": ".Rmd",
    "format_name": "rmarkdown"
   }
  },
  "kernelspec": {
   "display_name": "R",
   "language": "R",
   "name": "ir"
  },
  "language_info": {
   "codemirror_mode": "r",
   "file_extension": ".r",
   "mimetype": "text/x-r-source",
   "name": "R",
   "pygments_lexer": "r",
   "version": "4.1.3"
  },
  "widgets": {
   "application/vnd.jupyter.widget-state+json": {
    "state": {},
    "version_major": 2,
    "version_minor": 0
   }
  }
 },
 "nbformat": 4,
 "nbformat_minor": 4
}
