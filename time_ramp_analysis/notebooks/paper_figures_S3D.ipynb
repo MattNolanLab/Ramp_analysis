{
 "cells": [
  {
   "cell_type": "markdown",
   "metadata": {},
   "source": [
    "- The position at which slope is reset"
   ]
  },
  {
   "cell_type": "code",
   "execution_count": 1,
   "metadata": {
    "execution": {
     "iopub.execute_input": "2021-01-29T10:44:48.645787Z",
     "iopub.status.busy": "2021-01-29T10:44:48.645787Z",
     "iopub.status.idle": "2021-01-29T10:44:49.938686Z",
     "shell.execute_reply": "2021-01-29T10:44:49.938686Z",
     "shell.execute_reply.started": "2021-01-29T10:44:48.645787Z"
    },
    "lines_to_next_cell": 2
   },
   "outputs": [],
   "source": [
    "%reload_ext autoreload\n",
    "%autoreload 2\n",
    "import os\n",
    "os.environ['MPLCONFIGDIR'] = '../config'\n",
    "import pickle\n",
    "import pandas as pd\n",
    "import sklearn as sk\n",
    "from sklearn.decomposition import *\n",
    "from sklearn.cluster import *\n",
    "import numpy as np\n",
    "import matplotlib.pylab as plt\n",
    "from matplotlib.backends.backend_pdf import PdfPages\n",
    "from analysis.sparse_analysis import *\n",
    "import sklearn.metrics as skmetrics\n",
    "from scipy.stats import pearsonr, wilcoxon\n",
    "from scipy import signal\n",
    "from palettable.colorbrewer.qualitative import Paired_8 as colors\n",
    "np.random.seed(0) #for reproducibility\n",
    "import matplotlib as mpl\n",
    "from analysis.peak_detect import *\n",
    "import pickle\n",
    "import pandas as pd \n",
    "import seaborn as sns\n",
    "sns.set_palette(\"Accent\")"
   ]
  },
  {
   "cell_type": "markdown",
   "metadata": {},
   "source": [
    "### Load data"
   ]
  },
  {
   "cell_type": "code",
   "execution_count": 2,
   "metadata": {
    "execution": {
     "iopub.execute_input": "2021-01-29T10:44:49.938686Z",
     "iopub.status.busy": "2021-01-29T10:44:49.938686Z",
     "iopub.status.idle": "2021-01-29T10:44:51.181611Z",
     "shell.execute_reply": "2021-01-29T10:44:51.181611Z",
     "shell.execute_reply.started": "2021-01-29T10:44:49.938686Z"
    },
    "lines_to_next_cell": 2
   },
   "outputs": [
    {
     "data": {
      "text/plain": [
       "<matplotlib.axes._subplots.AxesSubplot at 0x1c2e8a25c70>"
      ]
     },
     "execution_count": 2,
     "metadata": {},
     "output_type": "execute_result"
    },
    {
     "data": {
      "image/png": "[encoded data removed]",
      "text/plain": [
       "<Figure size 432x288 with 1 Axes>"
      ]
     },
     "metadata": {
      "needs_background": "light"
     },
     "output_type": "display_data"
    }
   ],
   "source": [
    "dfs = pd.read_csv('E:/in_vivo_vr/sarah_glm_202006/all_results_linearmodel.txt',delimiter='\\t')\n",
    "\n",
    "# Load the Sarah's RDS file directly\n",
    "df = pd.read_csv('E:/in_vivo_vr/sarah_glm_202006/df_final_average_firingRate2.csv')\n",
    "\n",
    "with open('E:/in_vivo_vr/sarah_glm_202006/aggregated_ramp_score_shuffle.pkl','rb') as f:\n",
    "    df_ramp_score_shuffle = pickle.load(f)\n",
    "    \n",
    "with open('E:/in_vivo_vr/sarah_glm_202006/aggregated_ramp_score.pkl','rb') as f:\n",
    "    df_ramp_score = pickle.load(f)\n",
    "    \n",
    "df_ramp_score_shuffle_all = df_ramp_score_shuffle[df_ramp_score_shuffle.trial_type=='all'].copy()\n",
    "df_ramp_score_shuffle_all['trial_type'] = 'Shuffled_Rates_averaged' # so that can be merged easier later\n",
    "    \n",
    "df_ramp_score = df_ramp_score.append(df_ramp_score_shuffle_all)\n",
    "df_ramp_score = df_ramp_score[df_ramp_score.ramp_region=='outbound']\n",
    "df_ramp_score.trial_type.hist()\n",
    "\n",
    "\n",
    "\n"
   ]
  },
  {
   "cell_type": "markdown",
   "metadata": {},
   "source": [
    "Data cleaning"
   ]
  },
  {
   "cell_type": "code",
   "execution_count": 3,
   "metadata": {
    "execution": {
     "iopub.execute_input": "2021-01-29T10:44:51.181611Z",
     "iopub.status.busy": "2021-01-29T10:44:51.181611Z",
     "iopub.status.idle": "2021-01-29T10:44:52.292649Z",
     "shell.execute_reply": "2021-01-29T10:44:52.292649Z",
     "shell.execute_reply.started": "2021-01-29T10:44:51.181611Z"
    },
    "lines_to_next_cell": 2
   },
   "outputs": [
    {
     "data": {
      "text/plain": [
       "<matplotlib.axes._subplots.AxesSubplot at 0x1c2e8a68220>"
      ]
     },
     "execution_count": 3,
     "metadata": {},
     "output_type": "execute_result"
    },
    {
     "data": {
      "image/png": "[encoded data removed]",
      "text/plain": [
       "<Figure size 432x288 with 1 Axes>"
      ]
     },
     "metadata": {
      "needs_background": "light"
     },
     "output_type": "display_data"
    }
   ],
   "source": [
    "#Match lm results with average rate curves\n",
    "df2 = df.groupby(['session_id','cluster_id','trial_type']).agg(lambda x: list(x)).reset_index()\n",
    "df_merged = df2.merge(dfs, on=['session_id','cluster_id'],indicator=True)\n",
    "df_merged['_merge'].hist()\n",
    "df_merged = df_merged.replace({'Rates_averaged': 'beaconed',\n",
    "                            'Rates_averaged_nb': 'non-beaconed',\n",
    "                            'Rates_averaged_p':'probe'})\n",
    "df_merged[1:3]\n",
    "\n",
    "df_merged = df_merged[~df_merged.trial_type.str.contains('rewarded|failed')]\n",
    "df_merged = df_merged.replace({'NoSlope':'Unclassified','None':'Unclassified'})\n",
    "\n",
    "# merge with the rampscore too\n",
    "df_merged = df_merged.merge(df_ramp_score,on=['session_id','cluster_id','trial_type'])\n",
    "df_merged.trial_type.hist()"
   ]
  },
  {
   "cell_type": "markdown",
   "metadata": {},
   "source": [
    "### Peak analysis"
   ]
  },
  {
   "cell_type": "code",
   "execution_count": 4,
   "metadata": {
    "execution": {
     "iopub.execute_input": "2021-01-29T10:44:52.292649Z",
     "iopub.status.busy": "2021-01-29T10:44:52.292649Z",
     "iopub.status.idle": "2021-01-29T10:44:58.648817Z",
     "shell.execute_reply": "2021-01-29T10:44:58.648817Z",
     "shell.execute_reply.started": "2021-01-29T10:44:52.292649Z"
    },
    "lines_to_next_cell": 2
   },
   "outputs": [
    {
     "data": {
      "text/html": [
       "<div>\n",
       "<style scoped>\n",
       "    .dataframe tbody tr th:only-of-type {\n",
       "        vertical-align: middle;\n",
       "    }\n",
       "\n",
       "    .dataframe tbody tr th {\n",
       "        vertical-align: top;\n",
       "    }\n",
       "\n",
       "    .dataframe thead th {\n",
       "        text-align: right;\n",
       "    }\n",
       "</style>\n",
       "<table border=\"1\" class=\"dataframe\">\n",
       "  <thead>\n",
       "    <tr style=\"text-align: right;\">\n",
       "      <th></th>\n",
       "      <th>session_id</th>\n",
       "      <th>cluster_id</th>\n",
       "      <th>trial_type</th>\n",
       "      <th>pos</th>\n",
       "      <th>Average_Firing_Rate</th>\n",
       "      <th>lm_result_outbound</th>\n",
       "      <th>lm_result_homebound</th>\n",
       "      <th>lmer_result_outbound</th>\n",
       "      <th>lmer_result_homebound</th>\n",
       "      <th>_merge</th>\n",
       "      <th>...</th>\n",
       "      <th>breakpoint</th>\n",
       "      <th>fr_smooth</th>\n",
       "      <th>ramp_region</th>\n",
       "      <th>pos_bin</th>\n",
       "      <th>maxima</th>\n",
       "      <th>maxima_cm</th>\n",
       "      <th>smooth_curve</th>\n",
       "      <th>maxima_type</th>\n",
       "      <th>min_cm</th>\n",
       "      <th>max_cm</th>\n",
       "    </tr>\n",
       "  </thead>\n",
       "  <tbody>\n",
       "    <tr>\n",
       "      <th>0</th>\n",
       "      <td>1124_D11_2018-11-01_11-17-22</td>\n",
       "      <td>11</td>\n",
       "      <td>beaconed</td>\n",
       "      <td>[0, 1, 2, 3, 4, 5, 6, 7, 8, 9, 10, 11, 12, 13,...</td>\n",
       "      <td>[nan, 1.005979224345923, 1.0365395305148486, 1...</td>\n",
       "      <td>Unclassified</td>\n",
       "      <td>Unclassified</td>\n",
       "      <td>P</td>\n",
       "      <td>PA</td>\n",
       "      <td>both</td>\n",
       "      <td>...</td>\n",
       "      <td>[30, 66]</td>\n",
       "      <td>[1.6602558382387966, 1.4903886343480572, 1.320...</td>\n",
       "      <td>outbound</td>\n",
       "      <td>[30, 32, 34, 36, 38, 40, 42, 44, 46, 48, 50, 5...</td>\n",
       "      <td>NaN</td>\n",
       "      <td>NaN</td>\n",
       "      <td>[1.277985920190005, 1.277985920190005, 1.27798...</td>\n",
       "      <td>NaN</td>\n",
       "      <td>NaN</td>\n",
       "      <td>NaN</td>\n",
       "    </tr>\n",
       "    <tr>\n",
       "      <th>1</th>\n",
       "      <td>1124_D11_2018-11-01_11-17-22</td>\n",
       "      <td>11</td>\n",
       "      <td>non-beaconed</td>\n",
       "      <td>[0, 1, 2, 3, 4, 5, 6, 7, 8, 9, 10, 11, 12, 13,...</td>\n",
       "      <td>[nan, nan, 0.6407528591125394, 1.0946201370042...</td>\n",
       "      <td>Unclassified</td>\n",
       "      <td>Unclassified</td>\n",
       "      <td>P</td>\n",
       "      <td>PA</td>\n",
       "      <td>both</td>\n",
       "      <td>...</td>\n",
       "      <td>[30, 88]</td>\n",
       "      <td>[2.8819036030361374, 2.487844899271939, 2.0937...</td>\n",
       "      <td>outbound</td>\n",
       "      <td>[30, 32, 34, 36, 38, 40, 42, 44, 46, 48, 50, 5...</td>\n",
       "      <td>NaN</td>\n",
       "      <td>NaN</td>\n",
       "      <td>[1.3740984906236335, 1.3740984906236335, 1.374...</td>\n",
       "      <td>NaN</td>\n",
       "      <td>NaN</td>\n",
       "      <td>NaN</td>\n",
       "    </tr>\n",
       "    <tr>\n",
       "      <th>2</th>\n",
       "      <td>1124_D11_2018-11-01_11-17-22</td>\n",
       "      <td>11</td>\n",
       "      <td>probe</td>\n",
       "      <td>[0, 1, 2, 3, 4, 5, 6, 7, 8, 9, 10, 11, 12, 13,...</td>\n",
       "      <td>[nan, nan, 0.5292930246241967, 0.6742699663362...</td>\n",
       "      <td>Unclassified</td>\n",
       "      <td>Unclassified</td>\n",
       "      <td>P</td>\n",
       "      <td>PA</td>\n",
       "      <td>both</td>\n",
       "      <td>...</td>\n",
       "      <td>[30, 88]</td>\n",
       "      <td>[0.7152077734050971, 0.7030579572602117, 0.690...</td>\n",
       "      <td>outbound</td>\n",
       "      <td>[30, 32, 34, 36, 38, 40, 42, 44, 46, 48, 50, 5...</td>\n",
       "      <td>NaN</td>\n",
       "      <td>NaN</td>\n",
       "      <td>[0.6898274508441659, 0.6898274508441659, 0.689...</td>\n",
       "      <td>NaN</td>\n",
       "      <td>NaN</td>\n",
       "      <td>NaN</td>\n",
       "    </tr>\n",
       "    <tr>\n",
       "      <th>3</th>\n",
       "      <td>1124_D11_2018-11-01_11-17-22</td>\n",
       "      <td>11</td>\n",
       "      <td>Shuffled_Rates_averaged</td>\n",
       "      <td>[0, 1, 2, 3, 4, 5, 6, 7, 8, 9, 10, 11, 12, 13,...</td>\n",
       "      <td>[nan, nan, nan, nan, nan, 3.755893229759966, 4...</td>\n",
       "      <td>Unclassified</td>\n",
       "      <td>Unclassified</td>\n",
       "      <td>P</td>\n",
       "      <td>PA</td>\n",
       "      <td>both</td>\n",
       "      <td>...</td>\n",
       "      <td>[40, 62]</td>\n",
       "      <td>[0.9651152429213786, 0.9859604070002272, 1.006...</td>\n",
       "      <td>outbound</td>\n",
       "      <td>[30, 32, 34, 36, 38, 40, 42, 44, 46, 48, 50, 5...</td>\n",
       "      <td>NaN</td>\n",
       "      <td>NaN</td>\n",
       "      <td>[4.952763721623832, 4.952763721623832, 4.95276...</td>\n",
       "      <td>NaN</td>\n",
       "      <td>NaN</td>\n",
       "      <td>NaN</td>\n",
       "    </tr>\n",
       "    <tr>\n",
       "      <th>4</th>\n",
       "      <td>1124_D23_2018-11-17_12-32-44</td>\n",
       "      <td>11</td>\n",
       "      <td>beaconed</td>\n",
       "      <td>[0, 1, 2, 3, 4, 5, 6, 7, 8, 9, 10, 11, 12, 13,...</td>\n",
       "      <td>[nan, 0.6192097977763008, 0.161982734628008, 0...</td>\n",
       "      <td>Unclassified</td>\n",
       "      <td>Unclassified</td>\n",
       "      <td>Unclassified</td>\n",
       "      <td>P</td>\n",
       "      <td>both</td>\n",
       "      <td>...</td>\n",
       "      <td>[30, 56]</td>\n",
       "      <td>[0.5584190497417452, 0.5015066753367879, 0.444...</td>\n",
       "      <td>outbound</td>\n",
       "      <td>[30, 32, 34, 36, 38, 40, 42, 44, 46, 48, 50, 5...</td>\n",
       "      <td>NaN</td>\n",
       "      <td>NaN</td>\n",
       "      <td>[0.43863473225061905, 0.43863473225061905, 0.4...</td>\n",
       "      <td>NaN</td>\n",
       "      <td>NaN</td>\n",
       "      <td>NaN</td>\n",
       "    </tr>\n",
       "  </tbody>\n",
       "</table>\n",
       "<p>5 rows × 21 columns</p>\n",
       "</div>"
      ],
      "text/plain": [
       "                     session_id  cluster_id               trial_type  \\\n",
       "0  1124_D11_2018-11-01_11-17-22          11                 beaconed   \n",
       "1  1124_D11_2018-11-01_11-17-22          11             non-beaconed   \n",
       "2  1124_D11_2018-11-01_11-17-22          11                    probe   \n",
       "3  1124_D11_2018-11-01_11-17-22          11  Shuffled_Rates_averaged   \n",
       "4  1124_D23_2018-11-17_12-32-44          11                 beaconed   \n",
       "\n",
       "                                                 pos  \\\n",
       "0  [0, 1, 2, 3, 4, 5, 6, 7, 8, 9, 10, 11, 12, 13,...   \n",
       "1  [0, 1, 2, 3, 4, 5, 6, 7, 8, 9, 10, 11, 12, 13,...   \n",
       "2  [0, 1, 2, 3, 4, 5, 6, 7, 8, 9, 10, 11, 12, 13,...   \n",
       "3  [0, 1, 2, 3, 4, 5, 6, 7, 8, 9, 10, 11, 12, 13,...   \n",
       "4  [0, 1, 2, 3, 4, 5, 6, 7, 8, 9, 10, 11, 12, 13,...   \n",
       "\n",
       "                                 Average_Firing_Rate lm_result_outbound  \\\n",
       "0  [nan, 1.005979224345923, 1.0365395305148486, 1...       Unclassified   \n",
       "1  [nan, nan, 0.6407528591125394, 1.0946201370042...       Unclassified   \n",
       "2  [nan, nan, 0.5292930246241967, 0.6742699663362...       Unclassified   \n",
       "3  [nan, nan, nan, nan, nan, 3.755893229759966, 4...       Unclassified   \n",
       "4  [nan, 0.6192097977763008, 0.161982734628008, 0...       Unclassified   \n",
       "\n",
       "  lm_result_homebound lmer_result_outbound lmer_result_homebound _merge  ...  \\\n",
       "0        Unclassified                    P                    PA   both  ...   \n",
       "1        Unclassified                    P                    PA   both  ...   \n",
       "2        Unclassified                    P                    PA   both  ...   \n",
       "3        Unclassified                    P                    PA   both  ...   \n",
       "4        Unclassified         Unclassified                     P   both  ...   \n",
       "\n",
       "   breakpoint                                          fr_smooth ramp_region  \\\n",
       "0    [30, 66]  [1.6602558382387966, 1.4903886343480572, 1.320...    outbound   \n",
       "1    [30, 88]  [2.8819036030361374, 2.487844899271939, 2.0937...    outbound   \n",
       "2    [30, 88]  [0.7152077734050971, 0.7030579572602117, 0.690...    outbound   \n",
       "3    [40, 62]  [0.9651152429213786, 0.9859604070002272, 1.006...    outbound   \n",
       "4    [30, 56]  [0.5584190497417452, 0.5015066753367879, 0.444...    outbound   \n",
       "\n",
       "                                             pos_bin maxima  maxima_cm  \\\n",
       "0  [30, 32, 34, 36, 38, 40, 42, 44, 46, 48, 50, 5...    NaN        NaN   \n",
       "1  [30, 32, 34, 36, 38, 40, 42, 44, 46, 48, 50, 5...    NaN        NaN   \n",
       "2  [30, 32, 34, 36, 38, 40, 42, 44, 46, 48, 50, 5...    NaN        NaN   \n",
       "3  [30, 32, 34, 36, 38, 40, 42, 44, 46, 48, 50, 5...    NaN        NaN   \n",
       "4  [30, 32, 34, 36, 38, 40, 42, 44, 46, 48, 50, 5...    NaN        NaN   \n",
       "\n",
       "                                        smooth_curve maxima_type min_cm  \\\n",
       "0  [1.277985920190005, 1.277985920190005, 1.27798...         NaN    NaN   \n",
       "1  [1.3740984906236335, 1.3740984906236335, 1.374...         NaN    NaN   \n",
       "2  [0.6898274508441659, 0.6898274508441659, 0.689...         NaN    NaN   \n",
       "3  [4.952763721623832, 4.952763721623832, 4.95276...         NaN    NaN   \n",
       "4  [0.43863473225061905, 0.43863473225061905, 0.4...         NaN    NaN   \n",
       "\n",
       "   max_cm  \n",
       "0     NaN  \n",
       "1     NaN  \n",
       "2     NaN  \n",
       "3     NaN  \n",
       "4     NaN  \n",
       "\n",
       "[5 rows x 21 columns]"
      ]
     },
     "execution_count": 4,
     "metadata": {},
     "output_type": "execute_result"
    }
   ],
   "source": [
    "out_range = np.arange(30,110) # from 30 to  100 cm, slightly beyond the reward zone x*2-30\n",
    "home_range = np.hstack([np.arange(110,199),np.arange(0,29)]) # 110 to 200, 0 to 30\n",
    "all_range = np.arange(200)\n",
    "\n",
    "\n",
    "dfs_agg_out_sel = peakAnalysis3(df_merged,out_range,lm_check_col='lm_result_outbound')\n",
    "dfs_agg_home_sel = peakAnalysis3(df_merged,home_range,lm_check_col='lm_result_outbound')\n",
    "dfs_agg_all_sel = peakAnalysis3(df_merged,all_range,lm_check_col='lm_result_outbound')\n",
    "\n",
    "dfs_agg_out_sel.head()"
   ]
  },
  {
   "cell_type": "code",
   "execution_count": 5,
   "metadata": {
    "execution": {
     "iopub.execute_input": "2021-01-29T10:44:58.648817Z",
     "iopub.status.busy": "2021-01-29T10:44:58.648817Z",
     "iopub.status.idle": "2021-01-29T10:44:58.743117Z",
     "shell.execute_reply": "2021-01-29T10:44:58.743117Z",
     "shell.execute_reply.started": "2021-01-29T10:44:58.648817Z"
    },
    "lines_to_next_cell": 2
   },
   "outputs": [],
   "source": [
    "# combine dataframe together \n",
    "dfs_agg_out_sel['peak_region'] = 'outbound'\n",
    "dfs_agg_home_sel['peak_region'] = 'homebound'\n",
    "dfs_agg_all_sel['peak_region'] = 'all'\n",
    "\n",
    "dfs_comb = pd.concat([dfs_agg_out_sel, dfs_agg_home_sel,dfs_agg_all_sel])"
   ]
  },
  {
   "cell_type": "markdown",
   "metadata": {},
   "source": [
    "### Only include strong ramp cell"
   ]
  },
  {
   "cell_type": "code",
   "execution_count": 14,
   "metadata": {
    "execution": {
     "iopub.execute_input": "2021-01-29T10:53:48.810766Z",
     "iopub.status.busy": "2021-01-29T10:53:48.810766Z",
     "iopub.status.idle": "2021-01-29T10:53:50.703686Z",
     "shell.execute_reply": "2021-01-29T10:53:50.703686Z",
     "shell.execute_reply.started": "2021-01-29T10:53:48.810766Z"
    }
   },
   "outputs": [
    {
     "name": "stdout",
     "output_type": "stream",
     "text": [
      "0.40940518773068774\n"
     ]
    },
    {
     "data": {
      "image/png": "[encoded data removed]",
      "text/plain": [
       "<Figure size 432x648 with 6 Axes>"
      ]
     },
     "metadata": {
      "needs_background": "light"
     },
     "output_type": "display_data"
    }
   ],
   "source": [
    "def plotDist_wTrial(*args,**kwargs):\n",
    "    ax = sns.distplot(*args,**kwargs)\n",
    "    addTrialStructureBox(ax,0.014,0.015)\n",
    "\n",
    "# calculate the mean ramp score for shuffled data\n",
    "sns.set_context('talk',font_scale=0.7)\n",
    "rs_shuffled = np.abs(dfs_comb.ramp_score[dfs_comb.trial_type=='Shuffled_Rates_averaged'].values)\n",
    "percentile = np.percentile(rs_shuffled,99)\n",
    "print(rs_shuffled.max())\n",
    "\n",
    "# plot the maxima location\n",
    "dfs2plot = dfs_comb[(dfs_comb.peak_region == 'all') & \n",
    "                    (dfs_comb.lm_result_outbound.isin(['Positive','Negative']))]\n",
    "dfs2plot = dfs2plot[abs(dfs2plot.ramp_score)>rs_shuffled.max()]\n",
    "dfs2plot['maxima_cm'] -= 30 #shift to fit location definition\n",
    "g = sns.FacetGrid(dfs2plot, row='trial_type',col='maxima_type',hue='trial_type',margin_titles=True)\n",
    "g = (g.map(plotDist_wTrial,'maxima_cm',kde=True,hist=True)); #actually should be extrema\n",
    "[plt.setp(ax.texts, text=\"\") for ax in g.axes.flat] #remove dupliated text\n",
    "g.set_titles(row_template = '{row_name}',col_template='{col_name}')\n",
    "g.set_axis_labels(x_var=\"Location (cm)\", y_var='Density')\n",
    "plt.savefig('paper_figures/S3D.pdf',bbox_inches = \"tight\")"
   ]
  },
  {
   "cell_type": "markdown",
   "metadata": {
    "execution": {
     "iopub.execute_input": "2020-08-26T14:33:21.447557Z",
     "iopub.status.busy": "2020-08-26T14:33:21.446558Z",
     "iopub.status.idle": "2020-08-26T14:33:21.513379Z",
     "shell.execute_reply": "2020-08-26T14:33:21.513379Z",
     "shell.execute_reply.started": "2020-08-26T14:33:21.447557Z"
    }
   },
   "source": [
    "### Include all cells"
   ]
  },
  {
   "cell_type": "code",
   "execution_count": 7,
   "metadata": {
    "execution": {
     "iopub.execute_input": "2020-09-15T10:18:42.844599Z",
     "iopub.status.busy": "2020-09-15T10:18:42.844599Z",
     "iopub.status.idle": "2020-09-15T10:18:44.317092Z",
     "shell.execute_reply": "2020-09-15T10:18:44.317092Z",
     "shell.execute_reply.started": "2020-09-15T10:18:42.844599Z"
    }
   },
   "outputs": [
    {
     "data": {
      "image/png": "[encoded data removed]",
      "text/plain": [
       "<Figure size 864x432 with 8 Axes>"
      ]
     },
     "metadata": {
      "needs_background": "light"
     },
     "output_type": "display_data"
    }
   ],
   "source": [
    "sns.set_context('paper')\n",
    "\n",
    "# fig,axes = plt.subplots(1,3,figsize=(6*3,4),dpi=300)\n",
    "dfs2plot = dfs_comb[(dfs_comb.peak_region == 'all') & (dfs_comb.lm_result_outbound.isin(['Positive','Negative']))]\n",
    "g = sns.FacetGrid(dfs2plot, col='trial_type',row='lm_result_outbound',margin_titles=True)\n",
    "g = g.map(sns.distplot,'maxima_cm',rug=True,kde=False,hist=True);"
   ]
  }
 ],
 "metadata": {
  "jupytext": {
   "formats": "ipynb,py:percent"
  },
  "kernelspec": {
   "display_name": "Python 3 (ipykernel)",
   "language": "python",
   "name": "python3"
  },
  "language_info": {
   "codemirror_mode": {
    "name": "ipython",
    "version": 3
   },
   "file_extension": ".py",
   "mimetype": "text/x-python",
   "name": "python",
   "nbconvert_exporter": "python",
   "pygments_lexer": "ipython3",
   "version": "3.8.12"
  },
  "toc-autonumbering": false,
  "toc-showmarkdowntxt": false,
  "toc-showtags": false,
  "widgets": {
   "application/vnd.jupyter.widget-state+json": {
    "state": {},
    "version_major": 2,
    "version_minor": 0
   }
  }
 },
 "nbformat": 4,
 "nbformat_minor": 4
}
