{
 "cells": [
  {
   "cell_type": "raw",
   "metadata": {},
   "source": [
    "---\n",
    "title: \"R Notebook\"\n",
    "output:\n",
    "  html_notebook:\n",
    "    df_print: paged\n",
    "    toc: yes\n",
    "    toc_float: yes\n",
    "  html_document:\n",
    "    toc: yes\n",
    "    df_print: paged\n",
    "---"
   ]
  },
  {
   "cell_type": "markdown",
   "metadata": {},
   "source": [
    "This scripts aggregate the mixed effect models"
   ]
  },
  {
   "cell_type": "markdown",
   "metadata": {},
   "source": [
    "### Import\n"
   ]
  },
  {
   "cell_type": "code",
   "execution_count": null,
   "metadata": {
    "message": false,
    "tags": [
     "remove_cell"
    ]
   },
   "outputs": [],
   "source": [
    "library(rstatix)\n",
    "library(feather)\n",
    "library(tidyverse)\n",
    "library(rjson)\n",
    "library(lme4)\n",
    "library(reticulate)\n",
    "library(ggeffects)\n",
    "library(broom)\n",
    "library(glue)\n",
    "library(progress)\n",
    "library(ggforce)\n",
    "library(patchwork)\n",
    "library(ggpubr)\n",
    "\n",
    "knitr::opts_chunk$set(\n",
    "  fig.show = \"hold\",\n",
    "  fig.width = 7,\n",
    "  fig.asp = 0.6\n",
    ")\n"
   ]
  },
  {
   "cell_type": "markdown",
   "metadata": {},
   "source": [
    "### Load data"
   ]
  },
  {
   "cell_type": "code",
   "execution_count": null,
   "metadata": {},
   "outputs": [],
   "source": [
    "data_merged <- readRDS('/mnt/datastore/Teris/CurrentBiology_2022/all_lme.rds) #load previous data"
   ]
  },
  {
   "cell_type": "markdown",
   "metadata": {},
   "source": [
    "load peak and ramp score data"
   ]
  },
  {
   "cell_type": "code",
   "execution_count": null,
   "metadata": {
    "lines_to_next_cell": 0
   },
   "outputs": [],
   "source": [
    "ramp_score <- read_csv('E:/in_vivo_vr/sarah_glm_202006/ramp_score_coeff_export.csv')"
   ]
  },
  {
   "cell_type": "code",
   "execution_count": null,
   "metadata": {
    "lines_to_next_cell": 2
   },
   "outputs": [],
   "source": [
    "ramp_score2merge = ramp_score %>% filter(trial_type==\"beaconed\", ramp_region==\"outbound\")\n",
    "data_merged$neuron = as.numeric(data_merged$neuron)\n",
    "data_merged %>% inner_join(ramp_score2merge,by=c(\"session_id\"=\"session_id\",\"neuron\"=\"cluster_id\"))\n"
   ]
  },
  {
   "cell_type": "code",
   "execution_count": null,
   "metadata": {
    "lines_to_next_cell": 2
   },
   "outputs": [],
   "source": [
    "\n",
    "### Calculate normalized firing rate\n",
    "# getMaxFr <- function(data) {\n",
    "#   max(data$firingRate)\n",
    "# }\n",
    "# \n",
    "# # Get max firing rate of each cells\n",
    "# fr_max <- data_merged %>%\n",
    "#   filter(trial_length_type==\"All\") %>%\n",
    "#   mutate(max_fr = map(data,getMaxFr)) %>%\n",
    "#   select(session_id, cluster_id, max_fr)\n",
    "# \n",
    "# # Match back to the original \n",
    "# \n",
    "# data_merged_norm <- data_merged %>%\n",
    "#   inner_join(fr_max, by=c(\"session_id\",\"cluster_id\")) %>%\n",
    "#   select(-session_id) %>%\n",
    "#   unnest(data) \n",
    "\n",
    "# saveRDS(data_merged_norm,'E:/in_vivo_vr/sarah_glm_202006/data_merged_norm.rds', compress = FALSE)\n",
    "#  "
   ]
  },
  {
   "cell_type": "code",
   "execution_count": null,
   "metadata": {
    "lines_to_next_cell": 2
   },
   "outputs": [],
   "source": [
    "data_merged_norm <- data_merged %>%\n",
    "  select(-session_id) %>% \n",
    "  unnest(data)"
   ]
  },
  {
   "cell_type": "markdown",
   "metadata": {},
   "source": [
    "### Histogram of trial length (unfiltered)"
   ]
  },
  {
   "cell_type": "code",
   "execution_count": null,
   "metadata": {
    "fig.asp": 1,
    "fig.width": 7,
    "lines_to_next_cell": 0
   },
   "outputs": [],
   "source": [
    "extractTrialLength <- function(data){\n",
    "  return(data$trial_length[[1]])\n",
    "}\n",
    "\n",
    "\n",
    "d <- data_merged_norm %>%\n",
    "  # filter(lm_result_outbound=='Positive') %>%\n",
    "  filter(trial_length_type != 'All') %>%\n",
    "  group_by(session_id, trial_length_type, trial_number) %>%\n",
    "  nest() %>%\n",
    "  mutate(trial_length = map_dbl(data, extractTrialLength))\n",
    "\n",
    "d %>%\n",
    "  ungroup() %>%\n",
    "  mutate(trial_length_time = trial_length) %>%\n",
    "  filter(trial_length_time<100) %>%\n",
    "ggplot(aes(x=trial_length_time)) +\n",
    "  geom_histogram(binwidth = 1 ) +\n",
    "  facet_col(~trial_length_type)\n",
    "  # theme_classic() +\n",
    "  # labs(x='Time to reward (s)')\n",
    "\n",
    "# ggsave('paper_figures/3A.pdf')\n"
   ]
  },
  {
   "cell_type": "markdown",
   "metadata": {},
   "source": [
    "Count the number of ramp cells in each session"
   ]
  },
  {
   "cell_type": "code",
   "execution_count": null,
   "metadata": {},
   "outputs": [],
   "source": [
    "countCellType <- function(data) {\n",
    "  # Count the number of different cell types\n",
    "  data %>% group_by(neuron) %>%\n",
    "    summarize(lm_result_outbound=first(lm_result_outbound)) %>%\n",
    "    group_by(lm_result_outbound) %>%\n",
    "    summarize(n=n())\n",
    "}\n",
    "\n",
    "sumRampCol <- function(celltype) {\n",
    "\n",
    "  celltype[celltype$lm_result_outbound =='Positive',]$n +\n",
    "    celltype[celltype$lm_result_outbound =='Negative',]$n\n",
    "\n",
    "}\n",
    "\n",
    "\n",
    "d <- d %>% mutate(celltype = map(data, countCellType)) %>%\n",
    "  mutate(ramp_cell_number = map(celltype, sumRampCol))\n",
    "\n",
    "d$ramp_cell_number <- as.numeric(d$ramp_cell_number)"
   ]
  },
  {
   "cell_type": "code",
   "execution_count": null,
   "metadata": {},
   "outputs": [],
   "source": [
    "# arrange the cells\n",
    "d %>% group_by(session_id) %>%\n",
    "  summarize(n=n(),rampN = first(ramp_cell_number)) %>% \n",
    "  mutate(selIdx = 2*n*rampN/(n+rampN)) %>%\n",
    "  arrange(desc(n))\n"
   ]
  },
  {
   "cell_type": "markdown",
   "metadata": {},
   "source": [
    "Plot trial time and firing-rate-time plot for a particular session"
   ]
  },
  {
   "cell_type": "markdown",
   "metadata": {},
   "source": [
    "### Figure 3A and 3B\n",
    "Histogram and firing rate over time"
   ]
  },
  {
   "cell_type": "code",
   "execution_count": null,
   "metadata": {
    "fig.asp": 1,
    "fig.width": 7
   },
   "outputs": [],
   "source": [
    "\n",
    "plot_trial_time <- function(session_id) {\n",
    "  # plot histogram\n",
    "d %>%\n",
    "  ungroup() %>%\n",
    "  filter(session_id == !!session_id ) %>%\n",
    "  mutate(trial_length_time = trial_length) %>%\n",
    "  filter(trial_length_time<100) %>%\n",
    "  ggplot(aes(x=trial_length_time)) +\n",
    "    geom_histogram(binwidth = 2 ) +\n",
    "    labs(x='Time to reward (s)') +\n",
    "    theme_minimal(base_size=16)\n",
    "}\n",
    "\n",
    "plot_fr_vs_time <- function(session_id, neurons=NULL){\n",
    "    \n",
    "#   plot firing rate- time plot\n",
    "    sel_session <-  d %>%\n",
    "    ungroup() %>%\n",
    "    filter(session_id == !!session_id ) %>%\n",
    "    filter(trial_length_type != 'Middle')\n",
    "  \n",
    "  sel_session %>%\n",
    "    select(-session_id,-trial_length) %>% #remove duplicated columns\n",
    "    unnest(data) -> sel_session_expand\n",
    "    \n",
    "  if (!is.null(neurons)){\n",
    "      sel_session_expand <- sel_session_expand %>%\n",
    "          filter(neuron %in% neurons)\n",
    "  }\n",
    "  \n",
    "  sel_session_expand %>%\n",
    "    filter(lm_result_outbound == \"Positive\" | lm_result_outbound == \"Negative\" ) %>% # only include ramp cell\n",
    "  ggplot +\n",
    "    geom_smooth(aes(x=time_relative_outbound, y=firingRate,color=trial_length_type)) +\n",
    "    facet_wrap(~neuron,scale='free',ncol = 3)\n",
    "  \n",
    "  sel_session_expand %>%\n",
    "    filter(lm_result_outbound == \"Positive\" | lm_result_outbound == \"Negative\" ) %>% # only include ramp cell\n",
    "  ggplot +\n",
    "    geom_smooth(aes(x=time_relative_outbound, y=firingRate,color=trial_length_type)) +\n",
    "    facet_wrap(~neuron,scale='free',ncol = 2) +\n",
    "    labs(x='Time from start of track (s)',y='Firing Rate(Hz)',color='Trial length') +\n",
    "    theme_minimal(base_size=16) \n",
    "\n",
    "}\n",
    "\n",
    "\n",
    "options(repr.plot.width=4, repr.plot.height=4)\n",
    "plot_trial_time('M1_D31_2018-11-01_12-28-25')\n",
    "ggsave('paper_figures/3A.pdf',width=4,height=4)\n",
    "\n",
    "options(repr.plot.width=6, repr.plot.height=3)\n",
    "plot_fr_vs_time('M1_D31_2018-11-01_12-28-25',c(7,9))\n",
    "ggsave('paper_figures/3B.pdf',width=8,height=4)\n"
   ]
  },
  {
   "cell_type": "markdown",
   "metadata": {},
   "source": [
    "### Figure 3C\n",
    "Extrapolate firing rate at reward zone"
   ]
  },
  {
   "cell_type": "code",
   "execution_count": null,
   "metadata": {},
   "outputs": [],
   "source": [
    "getMaxFr <- function(data) {\n",
    "  max(data$firingRate)\n",
    "}\n",
    "\n",
    "# Get max firing rate of each cells\n",
    "fr_max <- data_merged %>%\n",
    "  filter(trial_length_type==\"All\") %>%\n",
    "  ungroup() %>%\n",
    "  mutate(max_fr = map_dbl(data,getMaxFr)) %>%\n",
    "  select(session_id, cluster_id, max_fr,-trial_length_type) \n",
    "\n",
    "norm_data <- function(data,max_fr){\n",
    "    data$firingRate <- data$firingRate/max_fr\n",
    "    return(data)\n",
    "}\n",
    "\n",
    "# Match back to the original \n",
    "\n",
    "data_merged_norm <- data_merged %>%\n",
    "  inner_join(fr_max, by=c(\"session_id\",\"cluster_id\")) \n",
    "\n",
    "data_merged_norm <- data_merged_norm %>%\n",
    "    mutate(data_norm = map2(data, max_fr, norm_data))\n"
   ]
  },
  {
   "cell_type": "code",
   "execution_count": null,
   "metadata": {},
   "outputs": [],
   "source": [
    "data_merged_filt <- data_merged_norm %>% filter(session_id=='M1_D31_2018-11-01_12-28-25', neuron==7) \n",
    "print(data_merged_filt)"
   ]
  },
  {
   "cell_type": "code",
   "execution_count": null,
   "metadata": {},
   "outputs": [],
   "source": [
    "time_model <- function(data){\n",
    "#     print(names(data))\n",
    "    tidy(lm(firingRate ~ time_relative_outbound, data=data))\n",
    "}\n",
    "\n",
    "predict_reward_firingRate <- function(intercept, slope, trial_time){\n",
    "    slope*trial_time+intercept\n",
    "}\n",
    "\n",
    "find_reward_fringRate <- function(data){\n",
    "    last(data$firingRate)\n",
    "}\n",
    "\n",
    "fitSlopePeak <- function(row){\n",
    "    row %>% group_by(trial_number) %>%\n",
    "    nest() %>%\n",
    "    mutate(time_model = map(data, time_model)) %>%\n",
    "    mutate(intercept=map_dbl(time_model, ~ .x[[1, 'estimate']])) %>% #get intercept\n",
    "    mutate(slope = map_dbl(time_model, ~ .x[[2,'estimate']])) %>% #get slope\n",
    "    mutate(trial_time = map_dbl(data, ~last(.x$time_relative_outbound))) %>%\n",
    "    mutate(reward_fr = pmap_dbl(list(intercept,slope,trial_time),predict_reward_firingRate)) %>%\n",
    "    mutate(final_reward_fr = map_dbl(data,find_reward_fringRate)) %>%\n",
    "    group_by() %>%\n",
    "    summarize(mean_intercept=mean(intercept), \n",
    "              mean_slope = mean(slope), \n",
    "              mean_reward_fr = mean(reward_fr),\n",
    "             final_reward_fr = mean(final_reward_fr))\n",
    "}\n",
    "\n",
    "x2 <- data_merged_filt[1,]$data_norm[[1]]\n",
    "fitSlopePeak(x2)"
   ]
  },
  {
   "cell_type": "code",
   "execution_count": null,
   "metadata": {},
   "outputs": [],
   "source": [
    "# get the predicted firing rate at the reward\n",
    "data_merged_reward <- data_merged_norm %>% mutate(reward_fr_data = map(data_norm,fitSlopePeak)) %>%\n",
    "    unnest_wider(reward_fr_data)"
   ]
  },
  {
   "cell_type": "code",
   "execution_count": null,
   "metadata": {},
   "outputs": [],
   "source": [
    "# Simplify data for analysis\n",
    "data_merged_reward_sel <- data_merged_reward %>%\n",
    "    select(neuron, session_id, trial_length_type, lm_result_outbound, final_reward_fr, starts_with('mean')) %>%\n",
    "    mutate(lm_result_outbound = recode(lm_result_outbound, 'NoSlope'='Unclassified','None'='Unclassified'))\n",
    "\n",
    "saveRDS(data_merged_reward_sel,'E:/in_vivo_vr/sarah_glm_202006/data_merged_reward_sel.rds', compress = FALSE)\n",
    "print(data_merged_reward_sel,n=3,width=300)"
   ]
  },
  {
   "cell_type": "code",
   "execution_count": null,
   "metadata": {},
   "outputs": [],
   "source": [
    "data2plot <- data_merged_reward_sel %>%\n",
    "    filter(trial_length_type %in% c('Long','Short')) \n",
    "data2plot$trial_length_type <- factor(data2plot$trial_length_type, levels=c('Long','Short'))\n",
    "data2plot <- data2plot %>% mutate(cell_id = glue(\"{session_id}_{neuron}\"))"
   ]
  },
  {
   "cell_type": "code",
   "execution_count": null,
   "metadata": {
    "lines_to_next_cell": 0
   },
   "outputs": [],
   "source": [
    "options(repr.plot.width=12, repr.plot.height=8)\n",
    "\n",
    "comp = list(c('Long','Short'))\n",
    "\n",
    "p1 <- ggboxplot(data2plot, y='final_reward_fr',\n",
    "          x='trial_length_type',facet.by='lm_result_outbound', id = 'cell_id',\n",
    "          nrow=1, scales='free', xlab='Trial length', ylab='Normalized Reward firing rate',\n",
    "              fill = \"trial_length_type\") +\n",
    "    stat_compare_means(comparisons=comp,label = \"p.signif\", method='wilcox.test') +\n",
    "    theme_minimal(base_size=16)\n",
    "\n",
    "p2 <- ggboxplot(data2plot, y='mean_slope',\n",
    "               fill = \"trial_length_type\",\n",
    "          x='trial_length_type',facet.by='lm_result_outbound',\n",
    "               nrow=1,scales='free',xlab='Trial length', \n",
    "               ylab='Slope',id='cell_id') +\n",
    "    stat_compare_means(comparisons=comp,label = \"p.signif\", paired= TRUE,method='wilcox.test') +\n",
    "        theme_minimal(base_size=16)\n",
    "\n",
    "p1 / p2\n",
    "ggsave('paper_figures/3C.pdf',width=12,height=8)\n",
    "# ggboxplot(data2plot, y='mean_slope',color='trial_length_type',x='lm_result_outbound')"
   ]
  },
  {
   "cell_type": "markdown",
   "metadata": {},
   "source": [
    "\n",
    "\n"
   ]
  }
 ],
 "metadata": {
  "jupytext": {
   "cell_metadata_filter": "tags,message,fig.width,fig.asp,-all",
   "notebook_metadata_filter": "-all",
   "text_representation": {
    "extension": ".Rmd",
    "format_name": "rmarkdown"
   }
  },
  "kernelspec": {
   "display_name": "R",
   "language": "R",
   "name": "ir"
  },
  "language_info": {
   "codemirror_mode": "r",
   "file_extension": ".r",
   "mimetype": "text/x-r-source",
   "name": "R",
   "pygments_lexer": "r",
   "version": "4.1.3"
  },
  "widgets": {
   "application/vnd.jupyter.widget-state+json": {
    "state": {},
    "version_major": 2,
    "version_minor": 0
   }
  }
 },
 "nbformat": 4,
 "nbformat_minor": 4
}
